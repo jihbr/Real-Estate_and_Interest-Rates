{
 "cells": [
  {
   "cell_type": "code",
   "execution_count": 9,
   "id": "a1ffdf69-7cd9-4d23-8834-a1bf49d295f8",
   "metadata": {
    "tags": []
   },
   "outputs": [],
   "source": [
    "#Written in JupyterLab Version 3.6.3\n",
    "#Python 3.10\n",
    "#pip 23.1.2\n",
    "import pandas as pd #Version 2.0.1\n",
    "import numpy as np #Version 1.23.5\n",
    "import os\n",
    "import warnings"
   ]
  },
  {
   "cell_type": "markdown",
   "id": "ebf81828-6bc9-41cf-adf7-2483a5c8ddef",
   "metadata": {},
   "source": [
    "### Cheat Sheet for FRED Files\n",
    "\n",
    "FREDFUNDS      =  \"The federal funds rate is the interest rate at which depository institutions trade federal funds (balances held at Federal Reserve Banks) with each other overnight.\" **->** The standard metric used when people the government is changing the interest rate.\n",
    "- Monthly\n",
    "- Starts in July 1954\n",
    "\n",
    "RSAHORUSQ156S  =  \"The homeownership rate is the proportion of households that is owner-occupied.\" **->** A percentage\n",
    "- Quarterly\n",
    "- Starts in Quarter 1 of 1980\n",
    "\n",
    "MORTGAGE30US   =  \"30-Year Fixed Rate Mortgage Average in the United States\" **->** Average mortgage rate for 30 year fixed\n",
    "- Weekly, Ending on Thursday\n",
    "- Starts in April 2, 1971\n",
    "\n",
    "CPIAUCSL       =  \"The Consumer Price Index for All Urban Consumers\" **->** Can be used to adjust for inflation\n",
    "- Monthly\n",
    "- Starts in January 1947"
   ]
  },
  {
   "cell_type": "code",
   "execution_count": 10,
   "id": "9b956054-db9f-4da5-923c-da7aaa9679e0",
   "metadata": {
    "tags": []
   },
   "outputs": [],
   "source": [
    "# Processing FRED Data - Merging all datasets together at the monthly level\n",
    "\n",
    "# File list\n",
    "FREDdir = './data/FRED/'\n",
    "file_list = os.listdir(FREDdir)\n",
    "\n",
    "# Loop through file list to get fully qualified paths for reading in pandas and put them in a dictionary with the file name (without extension) as the key\n",
    "path = {}\n",
    "for file in file_list:\n",
    "    path[file.split('.')[0]] = os.path.join(FREDdir,file)\n",
    "#print(path)\n",
    "\n",
    "# After a brief manual browsing of the data, I found that the information actually begins on row 11 which is 10 on a 0 index\n",
    "# So, we will put that row as the headers\n",
    "# Open all the files in pandas and store them in a dictionary with the key as the filename\n",
    "excel_files = {}\n",
    "for key, value in path.items():\n",
    "    if 'ipynb' in value:\n",
    "        continue\n",
    "    else:\n",
    "        excel_files[key] = pd.read_excel(value, header=10)"
   ]
  },
  {
   "cell_type": "code",
   "execution_count": 12,
   "id": "1d267de7-a506-41bf-b28f-3a521115f494",
   "metadata": {},
   "outputs": [],
   "source": [
    "# Check for nulls        \n",
    "RSAHORUSQ156S = excel_files['RSAHORUSQ156S'][excel_files['RSAHORUSQ156S']['RSAHORUSQ156S'].isnull()].count()\n",
    "FEDFUNDS = excel_files['FEDFUNDS'][excel_files['FEDFUNDS']['FEDFUNDS'].isnull()].count()\n",
    "MORTGAGE30US = excel_files['MORTGAGE30US'][excel_files['MORTGAGE30US']['MORTGAGE30US'].isnull()].count()\n",
    "CPIAUCSL = excel_files['CPIAUCSL'][excel_files['CPIAUCSL']['CPIAUCSL'].isnull()].count()\n",
    "\n",
    "#If sum > 1 then there are nulls in the data\n",
    "if RSAHORUSQ156S[1] > 0:\n",
    "    warnings.warn(\"Source dataset RSAHORUSQ156S has nulls and will need cleaned\")\n",
    "if FEDFUNDS[1] > 0:\n",
    "    warnings.warn(\"Source dataset FEDFUNDS has nulls and will need cleaned\")\n",
    "if MORTGAGE30US[1] > 0:\n",
    "    warnings.warn(\"Source dataset MORTGAGE30US has nulls and will need cleaned\")\n",
    "if CPIAUCSL[1] > 0:\n",
    "    warnings.warn(\"Source dataset CPIAUCSL has nulls and will need cleaned\")"
   ]
  },
  {
   "cell_type": "code",
   "execution_count": 13,
   "id": "7c068352-6517-4819-a416-ba436a97b0e0",
   "metadata": {},
   "outputs": [],
   "source": [
    "# Convert date to quarter for FEDFUNDS\n",
    "excel_files['FEDFUNDS']['date'] = pd.to_datetime(excel_files['FEDFUNDS']['observation_date']) # create date column as date time data type\n",
    "excel_files['FEDFUNDS']['quarter'] =  pd.PeriodIndex(excel_files['FEDFUNDS']['date'], freq='Q') # converts to quarter\n",
    "excel_files['FEDFUNDS']['month'] =  pd.PeriodIndex(excel_files['FEDFUNDS']['date'], freq='M') # converts to month\n",
    "#excel_files['FEDFUNDS'] = excel_files['FEDFUNDS'].drop(columns=['date','observation_date']) # drop other date columns\n",
    "excel_files['FEDFUNDS'] = excel_files['FEDFUNDS'].drop(columns=['date']) \n",
    "#excel_files['FEDFUNDS'] = excel_files['FEDFUNDS'].groupby('quarter').mean().reset_index()\n",
    "#excel_files['FEDFUNDS'].head()\n",
    "\n",
    "# Change RSAHORUSQ156S formatting to month in order to merge with FEDFUNDS\n",
    "excel_files['RSAHORUSQ156S']['date'] = pd.to_datetime(excel_files['RSAHORUSQ156S']['observation_date'])\n",
    "excel_files['RSAHORUSQ156S']['quarter'] =  pd.PeriodIndex(excel_files['RSAHORUSQ156S']['date'], freq='Q')\n",
    "excel_files['RSAHORUSQ156S'] = excel_files['RSAHORUSQ156S'].drop(columns=['date','observation_date'])\n",
    "#excel_files['RSAHORUSQ156S'].head()\n",
    "\n",
    "# Merge the datasets - FEDFUNDS & RSAHORUSQ156S\n",
    "FEDFUND_RSAH = pd.merge(excel_files['FEDFUNDS'], excel_files['RSAHORUSQ156S'], how = 'outer', on = 'quarter') # outer join in order to keep all data\n",
    "FEDFUND_RSAH = FEDFUND_RSAH[['quarter', 'month', 'observation_date','FEDFUNDS','RSAHORUSQ156S']]\n",
    "\n",
    "# Change MORTGAGE30US formatting to month in order to merge with FEDFUNDS\n",
    "excel_files['MORTGAGE30US']['date'] = pd.to_datetime(excel_files['MORTGAGE30US']['observation_date'])\n",
    "excel_files['MORTGAGE30US']['month'] =  pd.PeriodIndex(excel_files['MORTGAGE30US']['date'], freq='M')\n",
    "excel_files['MORTGAGE30US'] = excel_files['MORTGAGE30US'].drop(columns=['date','observation_date'])\n",
    "excel_files['MORTGAGE30US'] = excel_files['MORTGAGE30US'].groupby('month').mean().reset_index()\n",
    "#excel_files['MORTGAGE30US'].head()\n",
    "\n",
    "# Merge the datasets - (FEDFUNDS & RSAHORUSQ156S) & MORTGAGE30US\n",
    "FEDFUND_RSAH_MORT = pd.merge(FEDFUND_RSAH, excel_files['MORTGAGE30US'], how = 'outer', on = 'month')\n",
    "FEDFUND_RSAH_MORT = FEDFUND_RSAH_MORT[['quarter', 'month','FEDFUNDS','RSAHORUSQ156S', 'MORTGAGE30US']]\n",
    "#FEDFUND_RSAH_MORT.head(400)\n",
    "\n",
    "# Change CPIAUCSL formatting to month in order to merge with FEDFUNDS\n",
    "excel_files['CPIAUCSL']['date'] = pd.to_datetime(excel_files['CPIAUCSL']['observation_date'])\n",
    "excel_files['CPIAUCSL']['month'] =  pd.PeriodIndex(excel_files['CPIAUCSL']['date'], freq='M')\n",
    "excel_files['CPIAUCSL'] = excel_files['CPIAUCSL'].drop(columns=['date','observation_date'])\n",
    "#excel_files['CPIAUCSL'].head()\n",
    "\n",
    "# Merge the datasets - (FEDFUNDS & RSAHORUSQ156S & MORTGAGE30US) & CPIAUCSL\n",
    "FEDFUND_RSAH_MORT_CPI = pd.merge(FEDFUND_RSAH_MORT, excel_files['CPIAUCSL'], how = 'outer', on = 'month')\n",
    "FEDFUND_RSAH_MORT_CPI = FEDFUND_RSAH_MORT_CPI[['quarter', 'month','FEDFUNDS','RSAHORUSQ156S', 'MORTGAGE30US', 'CPIAUCSL']]\n",
    "#FEDFUND_RSAH_MORT_CPI.head(400)\n",
    "\n",
    "# FRED Datasets are Merged!"
   ]
  },
  {
   "cell_type": "code",
   "execution_count": 15,
   "id": "52e57485-70cb-488e-bc97-dfd11b507ea2",
   "metadata": {},
   "outputs": [],
   "source": [
    "# Write to cleaned data folder \n",
    "primary_df = FEDFUND_RSAH_MORT_CPI\n",
    "primary_df.to_csv('./data/cleaned_data/primary_df.csv')"
   ]
  }
 ],
 "metadata": {
  "kernelspec": {
   "display_name": "Python 3 (ipykernel)",
   "language": "python",
   "name": "python3"
  },
  "language_info": {
   "codemirror_mode": {
    "name": "ipython",
    "version": 3
   },
   "file_extension": ".py",
   "mimetype": "text/x-python",
   "name": "python",
   "nbconvert_exporter": "python",
   "pygments_lexer": "ipython3",
   "version": "3.10.11"
  }
 },
 "nbformat": 4,
 "nbformat_minor": 5
}
