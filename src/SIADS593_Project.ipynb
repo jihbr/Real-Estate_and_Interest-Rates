{
 "cells": [
  {
   "cell_type": "markdown",
   "id": "160e6f3e-745e-4763-a06a-92531faf2eb9",
   "metadata": {
    "tags": []
   },
   "source": [
    "# SIADS 593 Capstone 1 Project Notebook"
   ]
  },
  {
   "cell_type": "markdown",
   "id": "4c9ed0d1-d12c-4d6a-b497-eb704d56531b",
   "metadata": {},
   "source": [
    "### Team Members:\n",
    "- Austin Miller\n",
    "- Josh Haber"
   ]
  },
  {
   "cell_type": "code",
   "execution_count": null,
   "id": "2fc2f081-7503-4bbb-ad60-20d92e80265b",
   "metadata": {},
   "outputs": [],
   "source": []
  }
 ],
 "metadata": {
  "kernelspec": {
   "display_name": "Python 3 (ipykernel)",
   "language": "python",
   "name": "python3"
  },
  "language_info": {
   "codemirror_mode": {
    "name": "ipython",
    "version": 3
   },
   "file_extension": ".py",
   "mimetype": "text/x-python",
   "name": "python",
   "nbconvert_exporter": "python",
   "pygments_lexer": "ipython3",
   "version": "3.10.11"
  }
 },
 "nbformat": 4,
 "nbformat_minor": 5
}
